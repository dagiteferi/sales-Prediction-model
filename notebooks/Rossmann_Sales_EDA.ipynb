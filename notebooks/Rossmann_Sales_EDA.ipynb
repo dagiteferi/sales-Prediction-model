{
 "cells": [
  {
   "cell_type": "code",
   "execution_count": null,
   "metadata": {},
   "outputs": [],
   "source": [
    "# Import necessary libraries for data manipulation and visualization\n",
    "import pandas as pd\n",
    "import numpy as np\n",
    "import matplotlib.pyplot as plt\n",
    "import seaborn as sns\n",
    "import missingno as msno\n",
    "from scipy import stats\n",
    "from sklearn.preprocessing import LabelEncoder\n",
    "from datetime import datetime\n",
    "import warnings\n",
    "import logging\n",
    "\n",
    "# Suppress warnings for clean output\n",
    "warnings.filterwarnings(\"ignore\")\n",
    "\n",
    "# Set up logger\n",
    "logging.basicConfig(filename=\"../logs/eda.log\", level=logging.INFO)\n",
    "\n",
    "# Import the EDA class from mainEda.py\n",
    "from mainEda import EDA\n",
    "\n",
    "# Initialize the EDA class with the paths to your data files\n",
    "eda = EDA(train_path='../data/train.csv', test_path='../data/test.csv', store_path='../data/store.csv')\n",
    "\n",
    "# Document the purpose of this cell\n",
    "# This cell imports the necessary libraries and sets up logging.\n",
    "# It also initializes the EDA class with the specified data paths.\n"
   ]
  },
  {
   "cell_type": "code",
   "execution_count": null,
   "metadata": {},
   "outputs": [],
   "source": [
    "# Load datasets using the EDA class\n",
    "train_data = eda.load_data('../data/train.csv')\n",
    "test_data = eda.load_data('../data/test.csv')\n",
    "store_data = eda.load_data('../data/store.csv')\n",
    "\n",
    "# Document the purpose of this cell\n",
    "# This cell loads the train, test, and store datasets using the EDA class.\n",
    "# The datasets are stored in train_data, test_data, and store_data variables respectively.\n"
   ]
  },
  {
   "cell_type": "code",
   "execution_count": null,
   "metadata": {},
   "outputs": [],
   "source": [
    "# Load the store dataset using the EDA class\n",
    "store_data = eda.load_data('../data/store.csv')\n",
    "\n",
    "# Check the first few rows of the dataset\n",
    "store_data.head()\n",
    "\n",
    "# Document the purpose of this cell\n",
    "# This cell loads the store dataset using the EDA class and previews the first few rows of the dataset.\n",
    "# The store_data variable will contain the loaded store data.\n"
   ]
  },
  {
   "cell_type": "code",
   "execution_count": null,
   "metadata": {},
   "outputs": [],
   "source": [
    "# Data Overview\n",
    "eda.data_overview(store_data)\n",
    "\n",
    "# Document the purpose of this cell\n",
    "# This cell calls the data_overview function from the EDA class to print a detailed overview of the store_data dataset.\n",
    "# It provides information on the shape, columns, data types, and descriptive statistics of the dataset.\n"
   ]
  },
  {
   "cell_type": "code",
   "execution_count": null,
   "metadata": {},
   "outputs": [],
   "source": [
    "# Check for missing values in the store data\n",
    "eda.check_missing_values(store_data)\n",
    "\n",
    "# Document the purpose of this cell\n",
    "# This cell calls the check_missing_values function from the EDA class to check and visualize missing values in the store_data dataset.\n"
   ]
  },
  {
   "cell_type": "code",
   "execution_count": null,
   "metadata": {},
   "outputs": [],
   "source": [
    "# Handle missing values in the store data using the EDA class\n",
    "eda.handle_missing_values()\n",
    "\n",
    "# Check for missing values in the store data after handling missing values\n",
    "eda.check_missing_values(eda.store)\n",
    "\n",
    "# Document the purpose of this cell\n",
    "# This cell calls the handle_missing_values and check_missing_values functions from the EDA class.\n",
    "# It handles missing values in the store data and then checks for any remaining missing values.\n"
   ]
  },
  {
   "cell_type": "code",
   "execution_count": null,
   "metadata": {},
   "outputs": [],
   "source": [
    "# Visualize outliers in sales and customer count using the EDA class\n",
    "eda.visualize_outliers(eda.train, ['Sales', 'Customers'], \"Boxplot of Sales and Customers\")\n",
    "\n",
    "# Document the purpose of this cell\n",
    "# This cell calls the visualize_outliers function from the EDA class to create a boxplot for visualizing outliers in sales and customer count.\n",
    "# The boxplot helps in identifying any extreme values in these columns.\n"
   ]
  },
  {
   "cell_type": "code",
   "execution_count": null,
   "metadata": {},
   "outputs": [],
   "source": [
    "# Plotting sales distribution in training set using the EDA class\n",
    "eda.plot_distribution(eda.train, 'Sales', 'Sales Distribution in Training Set', bins=50)\n",
    "\n",
    "# Compare promo distribution in training and test set using the EDA class\n",
    "eda.plot_distribution(eda.train, 'Promo', 'Promo Distribution: Training vs Test Set', bins=30, color='blue', label='Train', kde=True)\n",
    "eda.plot_distribution(eda.test, 'Promo', 'Promo Distribution: Training vs Test Set', bins=30, color='green', label='Test', kde=True)\n",
    "\n",
    "# Document the purpose of this cell\n",
    "# This cell calls the plot_distribution function from the EDA class to plot the distribution of sales in the training set.\n",
    "# It also compares the promo distribution between the training and test sets.\n"
   ]
  },
  {
   "cell_type": "code",
   "execution_count": null,
   "metadata": {},
   "outputs": [],
   "source": [
    "# Visualize the distribution of store types using the EDA class\n",
    "eda.distribution_plot('StoreType', eda.store, \"Distribution of Stores by StoreType\")\n",
    "\n",
    "# Document the purpose of this cell\n",
    "# This cell calls the distribution_plot function from the EDA class to visualize the distribution of store types.\n",
    "# The countplot helps in understanding the number of stores for each store type.\n"
   ]
  },
  {
   "cell_type": "code",
   "execution_count": null,
   "metadata": {},
   "outputs": [],
   "source": [
    "# Visualize the distribution of assortment types using the EDA class\n",
    "eda.distribution_plot('Assortment', eda.store, \"Distribution of Stores by Assortment\")\n",
    "\n",
    "# Document the purpose of this cell\n",
    "# This cell calls the distribution_plot function from the EDA class to visualize the distribution of assortment types.\n",
    "# The countplot helps in understanding the number of stores for each assortment type.\n"
   ]
  },
  {
   "cell_type": "code",
   "execution_count": null,
   "metadata": {},
   "outputs": [],
   "source": []
  }
 ],
 "metadata": {
  "kernelspec": {
   "display_name": "week-4",
   "language": "python",
   "name": "python3"
  },
  "language_info": {
   "name": "python",
   "version": "3.12.5"
  }
 },
 "nbformat": 4,
 "nbformat_minor": 2
}
