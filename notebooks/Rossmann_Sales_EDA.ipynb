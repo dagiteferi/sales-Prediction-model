{
 "cells": [
  {
   "cell_type": "code",
   "execution_count": null,
   "metadata": {},
   "outputs": [],
   "source": [
    "# Import necessary libraries for data manipulation and visualization\n",
    "import pandas as pd\n",
    "import numpy as np\n",
    "import matplotlib.pyplot as plt\n",
    "import seaborn as sns\n",
    "import missingno as msno\n",
    "from scipy import stats\n",
    "from sklearn.preprocessing import LabelEncoder\n",
    "from datetime import datetime\n",
    "import warnings\n",
    "import logging\n",
    "\n",
    "# Suppress warnings for clean output\n",
    "warnings.filterwarnings(\"ignore\")\n",
    "\n",
    "# Set up logger\n",
    "logging.basicConfig(filename=\"../logs/eda.log\", level=logging.INFO)\n",
    "\n",
    "# Import the EDA class from mainEda.py\n",
    "from mainEda import EDA\n",
    "\n",
    "# Initialize the EDA class with the paths to your data files\n",
    "eda = EDA(train_path='../data/train.csv', test_path='../data/test.csv', store_path='../data/store.csv')\n",
    "\n",
    "# Document the purpose of this cell\n",
    "# This cell imports the necessary libraries and sets up logging.\n",
    "# It also initializes the EDA class with the specified data paths.\n"
   ]
  },
  {
   "cell_type": "code",
   "execution_count": null,
   "metadata": {},
   "outputs": [],
   "source": [
    "# Load datasets using the EDA class\n",
    "train_data = eda.load_data('../data/train.csv')\n",
    "test_data = eda.load_data('../data/test.csv')\n",
    "store_data = eda.load_data('../data/store.csv')\n",
    "\n",
    "# Document the purpose of this cell\n",
    "# This cell loads the train, test, and store datasets using the EDA class.\n",
    "# The datasets are stored in train_data, test_data, and store_data variables respectively.\n"
   ]
  },
  {
   "cell_type": "code",
   "execution_count": null,
   "metadata": {},
   "outputs": [],
   "source": [
    "# Load the store dataset using the EDA class\n",
    "store_data = eda.load_data('../data/store.csv')\n",
    "\n",
    "# Check the first few rows of the dataset\n",
    "store_data.head()\n",
    "\n",
    "# Document the purpose of this cell\n",
    "# This cell loads the store dataset using the EDA class and previews the first few rows of the dataset.\n",
    "# The store_data variable will contain the loaded store data.\n"
   ]
  },
  {
   "cell_type": "code",
   "execution_count": null,
   "metadata": {},
   "outputs": [],
   "source": [
    "# Data Overview\n",
    "eda.data_overview(store_data)\n",
    "\n",
    "# Document the purpose of this cell\n",
    "# This cell calls the data_overview function from the EDA class to print a detailed overview of the store_data dataset.\n",
    "# It provides information on the shape, columns, data types, and descriptive statistics of the dataset.\n"
   ]
  },
  {
   "cell_type": "code",
   "execution_count": null,
   "metadata": {},
   "outputs": [],
   "source": [
    "# Check for missing values in the store data\n",
    "eda.check_missing_values(store_data)\n",
    "\n",
    "# Document the purpose of this cell\n",
    "# This cell calls the check_missing_values function from the EDA class to check and visualize missing values in the store_data dataset.\n"
   ]
  },
  {
   "cell_type": "code",
   "execution_count": null,
   "metadata": {},
   "outputs": [],
   "source": [
    "# Handle missing values in the store data using the EDA class\n",
    "eda.handle_missing_values()\n",
    "\n",
    "# Check for missing values in the store data after handling missing values\n",
    "eda.check_missing_values(eda.store)\n",
    "\n",
    "# Document the purpose of this cell\n",
    "# This cell calls the handle_missing_values and check_missing_values functions from the EDA class.\n",
    "# It handles missing values in the store data and then checks for any remaining missing values.\n"
   ]
  },
  {
   "cell_type": "code",
   "execution_count": null,
   "metadata": {},
   "outputs": [],
   "source": [
    "# Visualize outliers in sales and customer count using the EDA class\n",
    "eda.visualize_outliers(eda.train, ['Sales', 'Customers'], \"Boxplot of Sales and Customers\")\n",
    "\n",
    "# Document the purpose of this cell\n",
    "# This cell calls the visualize_outliers function from the EDA class to create a boxplot for visualizing outliers in sales and customer count.\n",
    "# The boxplot helps in identifying any extreme values in these columns.\n"
   ]
  },
  {
   "cell_type": "code",
   "execution_count": null,
   "metadata": {},
   "outputs": [],
   "source": [
    "# Plotting sales distribution in training set using the EDA class\n",
    "eda.plot_distribution(eda.train, 'Sales', 'Sales Distribution in Training Set', bins=50)\n",
    "\n",
    "# Compare promo distribution in training and test set using the EDA class\n",
    "eda.plot_distribution(eda.train, 'Promo', 'Promo Distribution: Training vs Test Set', bins=30, color='blue', label='Train', kde=True)\n",
    "eda.plot_distribution(eda.test, 'Promo', 'Promo Distribution: Training vs Test Set', bins=30, color='green', label='Test', kde=True)\n",
    "\n",
    "# Document the purpose of this cell\n",
    "# This cell calls the plot_distribution function from the EDA class to plot the distribution of sales in the training set.\n",
    "# It also compares the promo distribution between the training and test sets.\n"
   ]
  },
  {
   "cell_type": "code",
   "execution_count": null,
   "metadata": {},
   "outputs": [],
   "source": [
    "# Visualize the distribution of store types using the EDA class\n",
    "eda.distribution_plot('StoreType', eda.store, \"Distribution of Stores by StoreType\")\n",
    "\n",
    "# Document the purpose of this cell\n",
    "# This cell calls the distribution_plot function from the EDA class to visualize the distribution of store types.\n",
    "# The countplot helps in understanding the number of stores for each store type.\n"
   ]
  },
  {
   "cell_type": "code",
   "execution_count": null,
   "metadata": {},
   "outputs": [],
   "source": [
    "# Visualize the distribution of assortment types using the EDA class\n",
    "eda.distribution_plot('Assortment', eda.store, \"Distribution of Stores by Assortment\")\n",
    "\n",
    "# Document the purpose of this cell\n",
    "# This cell calls the distribution_plot function from the EDA class to visualize the distribution of assortment types.\n",
    "# The countplot helps in understanding the number of stores for each assortment type.\n"
   ]
  },
  {
   "cell_type": "code",
   "execution_count": null,
   "metadata": {},
   "outputs": [],
   "source": [
    "# Visualize the distribution of CompetitionDistance using the EDA class\n",
    "eda.distribution_plot('CompetitionDistance', eda.store, 'Distribution of CompetitionDistance', plot_type='histplot')\n",
    "\n",
    "# Document the purpose of this cell\n",
    "# This cell calls the distribution_plot function from the EDA class to visualize the distribution of CompetitionDistance.\n",
    "# The histogram plot helps in understanding the distribution and density of competition distances among stores.\n"
   ]
  },
  {
   "cell_type": "code",
   "execution_count": null,
   "metadata": {},
   "outputs": [],
   "source": [
    "# Analyze sales during holidays using the EDA class\n",
    "eda.holiday_sales_analysis()\n",
    "\n",
    "# Document the purpose of this cell\n",
    "# This cell calls the holiday_sales_analysis function from the EDA class to analyze sales behavior before, during, and after state holidays.\n",
    "# It visualizes the average sales for each state holiday using a bar plot.\n"
   ]
  },
  {
   "cell_type": "code",
   "execution_count": null,
   "metadata": {},
   "outputs": [],
   "source": [
    "# Visualize seasonal sales trends using the EDA class\n",
    "eda.seasonal_sales_trends()\n",
    "\n",
    "# Document the purpose of this cell\n",
    "# This cell calls the seasonal_sales_trends function from the EDA class to identify seasonal patterns in sales, such as peaks during Christmas or Easter.\n",
    "# It visualizes the monthly sales distribution using a boxplot.\n"
   ]
  },
  {
   "cell_type": "code",
   "execution_count": null,
   "metadata": {},
   "outputs": [],
   "source": [
    "# Perform correlation analysis between sales and customers using the EDA class\n",
    "eda.correlation_analysis(eda.train[['Sales', 'Customers']])\n",
    "\n",
    "# Document the purpose of this cell\n",
    "# This cell calls the correlation_analysis function from the EDA class to investigate the correlation between sales and customers.\n",
    "# It visualizes the correlation using a heatmap.\n"
   ]
  },
  {
   "cell_type": "code",
   "execution_count": null,
   "metadata": {},
   "outputs": [],
   "source": [
    "# Label encode columns and get the correlation matrix using the EDA class\n",
    "correlation_matrix = eda.label_encode_columns()\n",
    "\n",
    "# Display correlation matrix\n",
    "correlation_matrix\n",
    "\n",
    "# Document the purpose of this cell\n",
    "# This cell calls the label_encode_columns function from the EDA class to label encode categorical columns ('StoreType', 'Assortment', and 'PromoInterval') and calculate the correlation matrix.\n",
    "# It then displays the correlation matrix to analyze the relationships between all columns.\n"
   ]
  },
  {
   "cell_type": "code",
   "execution_count": null,
   "metadata": {},
   "outputs": [],
   "source": [
    "# Label encode columns and get the correlation matrix using the EDA class\n",
    "correlation_matrix = eda.label_encode_columns()\n",
    "\n",
    "# Visualize the correlation matrix\n",
    "plt.figure(figsize=(12, 8))\n",
    "sns.heatmap(correlation_matrix, annot=True, cmap='coolwarm')\n",
    "plt.title(\"Correlation between features\")\n",
    "plt.show()\n",
    "\n",
    "# Document the purpose of this cell\n",
    "# This cell calls the label_encode_columns function from the EDA class to label encode categorical columns and calculate the correlation matrix.\n",
    "# It then visualizes the correlation matrix using a heatmap to analyze the relationships between all features.\n"
   ]
  },
  {
   "cell_type": "code",
   "execution_count": null,
   "metadata": {},
   "outputs": [],
   "source": [
    "# Analyze the effect of promotions on sales using the EDA class\n",
    "eda.promo_analysis()\n",
    "\n",
    "# Document the purpose of this cell\n",
    "# This cell calls the promo_analysis function from the EDA class to analyze how promotions impact sales and customer behavior.\n",
    "# It visualizes the average sales during promotions vs no promotions using a bar plot.\n"
   ]
  },
  {
   "cell_type": "code",
   "execution_count": null,
   "metadata": {},
   "outputs": [],
   "source": [
    "# Analyze the effect of promos on sales using the EDA class\n",
    "eda.promo2_analysis()\n",
    "\n",
    "# Document the purpose of this cell\n",
    "# This cell calls the promo2_analysis function from the EDA class to analyze the effect of Promo2 on CompetitionDistance.\n",
    "# It prints the average CompetitionDistance for stores with and without Promo2.\n"
   ]
  },
  {
   "cell_type": "code",
   "execution_count": null,
   "metadata": {},
   "outputs": [],
   "source": [
    "# Visualize the distribution of Promo2 using the EDA class\n",
    "eda.promo2_distribution_analysis()\n",
    "\n",
    "# Document the purpose of this cell\n",
    "# This cell calls the promo2_distribution_analysis function from the EDA class to visualize the distribution of Promo2.\n",
    "# The countplot helps in understanding the number of stores that participate in Promo2.\n"
   ]
  },
  {
   "cell_type": "code",
   "execution_count": null,
   "metadata": {},
   "outputs": [],
   "source": [
    "# Visualize the distribution of Promo2 using the EDA class\n",
    "eda.promo2_distribution_analysis()\n",
    "\n",
    "# Document the purpose of this cell\n",
    "# This cell calls the promo2_distribution_analysis function from the EDA class to visualize the distribution of Promo2.\n",
    "# The countplot helps in understanding the number of stores that participate in Promo2.\n"
   ]
  },
  {
   "cell_type": "code",
   "execution_count": null,
   "metadata": {},
   "outputs": [],
   "source": [
    "# Analyze the effect of assortment types on sales using the EDA class\n",
    "eda.assortment_sales_analysis()\n",
    "\n",
    "# Document the purpose of this cell\n",
    "# This cell calls the assortment_sales_analysis function from the EDA class to check the impact of different store assortments on sales.\n",
    "# It visualizes the average sales by assortment type using a boxplot.\n"
   ]
  }
 ],
 "metadata": {
  "kernelspec": {
   "display_name": "week-4",
   "language": "python",
   "name": "python3"
  },
  "language_info": {
   "name": "python",
   "version": "3.12.5"
  }
 },
 "nbformat": 4,
 "nbformat_minor": 2
}
