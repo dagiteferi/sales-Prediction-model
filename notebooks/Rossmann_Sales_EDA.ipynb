{
 "cells": [
  {
   "cell_type": "code",
   "execution_count": null,
   "metadata": {},
   "outputs": [],
   "source": [
    "# Import necessary libraries for data manipulation and visualization\n",
    "import pandas as pd\n",
    "import numpy as np\n",
    "import matplotlib.pyplot as plt\n",
    "import seaborn as sns\n",
    "import missingno as msno\n",
    "from scipy import stats\n",
    "from sklearn.preprocessing import LabelEncoder\n",
    "from datetime import datetime\n",
    "import warnings\n",
    "import logging\n",
    "\n",
    "# Suppress warnings for clean output\n",
    "warnings.filterwarnings(\"ignore\")\n",
    "\n",
    "# Set up logger\n",
    "logging.basicConfig(filename=\"../logs/eda.log\", level=logging.INFO)\n",
    "\n",
    "# Import the EDA class from mainEda.py\n",
    "from mainEda import EDA\n",
    "\n",
    "# Initialize the EDA class with the paths to your data files\n",
    "eda = EDA(train_path='../data/train.csv', test_path='../data/test.csv', store_path='../data/store.csv')\n",
    "\n",
    "# Document the purpose of this cell\n",
    "# This cell imports the necessary libraries and sets up logging.\n",
    "# It also initializes the EDA class with the specified data paths.\n"
   ]
  },
  {
   "cell_type": "code",
   "execution_count": null,
   "metadata": {},
   "outputs": [],
   "source": [
    "# Load datasets using the EDA class\n",
    "train_data = eda.load_data('../data/train.csv')\n",
    "test_data = eda.load_data('../data/test.csv')\n",
    "store_data = eda.load_data('../data/store.csv')\n",
    "\n",
    "# Document the purpose of this cell\n",
    "# This cell loads the train, test, and store datasets using the EDA class.\n",
    "# The datasets are stored in train_data, test_data, and store_data variables respectively.\n"
   ]
  },
  {
   "cell_type": "code",
   "execution_count": null,
   "metadata": {},
   "outputs": [],
   "source": [
    "# Load the store dataset using the EDA class\n",
    "store_data = eda.load_data('../data/store.csv')\n",
    "\n",
    "# Check the first few rows of the dataset\n",
    "store_data.head()\n",
    "\n",
    "# Document the purpose of this cell\n",
    "# This cell loads the store dataset using the EDA class and previews the first few rows of the dataset.\n",
    "# The store_data variable will contain the loaded store data.\n"
   ]
  },
  {
   "cell_type": "code",
   "execution_count": null,
   "metadata": {},
   "outputs": [],
   "source": [
    "# Data Overview\n",
    "eda.data_overview(store_data)\n",
    "\n",
    "# Document the purpose of this cell\n",
    "# This cell calls the data_overview function from the EDA class to print a detailed overview of the store_data dataset.\n",
    "# It provides information on the shape, columns, data types, and descriptive statistics of the dataset.\n"
   ]
  },
  {
   "cell_type": "code",
   "execution_count": null,
   "metadata": {},
   "outputs": [],
   "source": []
  }
 ],
 "metadata": {
  "kernelspec": {
   "display_name": "week-4",
   "language": "python",
   "name": "python3"
  },
  "language_info": {
   "name": "python",
   "version": "3.12.5"
  }
 },
 "nbformat": 4,
 "nbformat_minor": 2
}
