{
 "cells": [
  {
   "cell_type": "markdown",
   "metadata": {},
   "source": [
    "# Data Collection\n",
    "\n",
    "## 1.1 Import Libraries\n"
   ]
  },
  {
   "cell_type": "code",
   "execution_count": null,
   "metadata": {},
   "outputs": [],
   "source": [
    "# Import necessary libraries\n",
    "import os\n",
    "import sys\n",
    "import joblib\n",
    "import datetime\n",
    "import numpy as np\n",
    "import pandas as pd\n",
    "import seaborn as sns\n",
    "from joblib import dump\n",
    "import matplotlib.pyplot as plt\n",
    "from sklearn.ensemble import RandomForestRegressor\n",
    "from sklearn.pipeline import Pipeline\n",
    "from sklearn.preprocessing import LabelEncoder, StandardScaler\n",
    "from sklearn.model_selection import train_test_split, cross_val_score\n",
    "from sklearn.metrics import mean_squared_error, mean_absolute_error, r2_score\n",
    "from tensorflow.keras.models import Sequential\n",
    "from tensorflow.keras.layers import LSTM, Dense\n",
    "\n",
    "# Append the correct path for custom module imports\n",
    "sys.path.append(os.path.abspath('../src'))\n",
    "\n",
    "# Import custom modules\n",
    "from preprocess import Preprocessor\n",
    "from model import ModelTrainer\n"
   ]
  },
  {
   "cell_type": "markdown",
   "metadata": {},
   "source": [
    "## 1.2 Import Warnings and Logging Libraries\n"
   ]
  },
  {
   "cell_type": "code",
   "execution_count": null,
   "metadata": {},
   "outputs": [],
   "source": [
    "# Warnings and logging\n",
    "import warnings\n",
    "import logging\n",
    "warnings.filterwarnings(\"ignore\")\n",
    "\n",
    "# Append the correct path for custom module imports\n",
    "sys.path.append(os.path.abspath('../src'))\n",
    "sys.path.append(os.path.abspath('../data'))\n",
    "sys.path.append(os.path.abspath('../notebook/models'))\n",
    "\n",
    "# Optional custom logging (currently commented out)\n",
    "# from custom_logging import info_logger, error_logger\n"
   ]
  },
  {
   "cell_type": "markdown",
   "metadata": {},
   "source": [
    "## 1.3 Commented Out Imports for Future Reference\n"
   ]
  },
  {
   "cell_type": "code",
   "execution_count": null,
   "metadata": {},
   "outputs": [],
   "source": [
    "# from data_processing import load_data, clean_data, handle_missing_values\n",
    "# from sale_analysis import (\n",
    "#     plot_sales_distribution,\n",
    "#     compare_sales_holidays,\n",
    "#     seasonal_behavior,\n",
    "#     correlation_analysis,\n",
    "#     promo_effect,\n",
    "#     effective_promo_deployment,\n",
    "#     customer_behavior_trends,\n",
    "#     weekday_openings,\n",
    "#     assortment_type_impact,\n",
    "#     competitor_distance_impact,\n",
    "#     new_competitor_effects, \n",
    "#     plot_promo_distribution,\n",
    "#     plot_sales_during_holidays,\n",
    "#     plot_sales_customers_corr, \n",
    "#     plot_store_corr\n",
    "# )\n"
   ]
  },
  {
   "cell_type": "code",
   "execution_count": null,
   "metadata": {},
   "outputs": [],
   "source": [
    "# This Python 3 environment comes with many helpful analytics libraries installed\n",
    "# It is defined by the kaggle/python Docker image: https://github.com/kaggle/docker-python\n",
    "# For example, here's several helpful packages to load\n",
    "\n",
    "import numpy as np # linear algebra\n",
    "import pandas as pd # data processing, CSV file I/O (e.g. pd.read_csv)\n",
    "\n",
    "# Input data files are available in the read-only \"../input/\" directory\n",
    "# For example, running this (by clicking run or pressing Shift+Enter) will list all files under the input directory\n",
    "\n",
    "import os\n",
    "for dirname, _, filenames in os.walk('/kaggle/input'):\n",
    "    for filename in filenames:\n",
    "        print(os.path.join(dirname, filename))\n",
    "\n",
    "# You can write up to 20GB to the current directory (/kaggle/working/) that gets preserved as output when you create a version using \"Save & Run All\" \n",
    "# You can also write temporary files to /kaggle/temp/, but they won't be saved outside of the current session\n"
   ]
  },
  {
   "cell_type": "markdown",
   "metadata": {},
   "source": [
    "## 1.2 Load the Data\n"
   ]
  },
  {
   "cell_type": "code",
   "execution_count": null,
   "metadata": {},
   "outputs": [],
   "source": []
  },
  {
   "cell_type": "code",
   "execution_count": null,
   "metadata": {},
   "outputs": [],
   "source": [
    "# Define the paths to the datasets\n",
    "train_path = '/kaggle/input/rossmann-store-sales/train.csv'\n",
    "test_path = '/kaggle/input/rossmann-store-sales/test.csv'\n",
    "store_path = '/kaggle/input/rossmann-store-sales/store.csv'\n",
    "\n",
    "# Initialize the Preprocessor class\n",
    "preprocessor = Preprocessor(train_path, test_path, store_path)\n",
    "\n",
    "# Load the datasets\n",
    "train_data, test_data, store_data = preprocessor.load_data()\n"
   ]
  },
  {
   "cell_type": "markdown",
   "metadata": {},
   "source": [
    "# Data Preprocessing\n",
    "\n",
    "## 2.1 Summary of Dataset\n"
   ]
  },
  {
   "cell_type": "code",
   "execution_count": null,
   "metadata": {},
   "outputs": [],
   "source": [
    "# Summarize the dataset\n",
    "preprocessor.summarize_data()\n"
   ]
  },
  {
   "cell_type": "markdown",
   "metadata": {},
   "source": [
    "## 2.2 Descriptive Statistics for Training Data\n"
   ]
  },
  {
   "cell_type": "code",
   "execution_count": null,
   "metadata": {},
   "outputs": [],
   "source": [
    "# Display descriptive statistics for the training dataset\n",
    "train_data.describe()\n"
   ]
  },
  {
   "cell_type": "markdown",
   "metadata": {},
   "source": [
    "## 2.3 Data Types and Descriptive Statistics for Test and Store Data\n"
   ]
  },
  {
   "cell_type": "code",
   "execution_count": null,
   "metadata": {},
   "outputs": [],
   "source": [
    "# Display data types for the test dataset\n",
    "print(test_data.dtypes)\n",
    "\n",
    "# Display data types for the store dataset\n",
    "print(store_data.dtypes)\n",
    "\n",
    "# Display descriptive statistics for the store dataset\n",
    "store_data.describe()\n"
   ]
  },
  {
   "cell_type": "markdown",
   "metadata": {},
   "source": [
    "## 2.4 Data Cleaning\n",
    "\n",
    "### 2.4.1 Checking Missing Values in Training Data\n"
   ]
  },
  {
   "cell_type": "code",
   "execution_count": null,
   "metadata": {},
   "outputs": [],
   "source": [
    "# Check for missing values in the training dataset\n",
    "train_data.isna().sum()\n"
   ]
  },
  {
   "cell_type": "markdown",
   "metadata": {},
   "source": [
    "### 2.4.2 Checking Missing Values in Testing Data\n"
   ]
  },
  {
   "cell_type": "code",
   "execution_count": null,
   "metadata": {},
   "outputs": [],
   "source": [
    "# Check for missing values in the testing dataset\n",
    "test_data.isna().sum()\n"
   ]
  },
  {
   "cell_type": "markdown",
   "metadata": {},
   "source": [
    "### 2.4.3 Checking Missing Values in Store Data\n"
   ]
  },
  {
   "cell_type": "code",
   "execution_count": null,
   "metadata": {},
   "outputs": [],
   "source": [
    "# Check for missing values in the store dataset\n",
    "store_data.isnull().sum()\n"
   ]
  },
  {
   "cell_type": "markdown",
   "metadata": {},
   "source": [
    "## 2.5 Merge the Dataset\n"
   ]
  },
  {
   "cell_type": "code",
   "execution_count": null,
   "metadata": {},
   "outputs": [],
   "source": [
    "# Merge the datasets using the Preprocessor class\n",
    "merged_data = preprocessor.merge_datasets()\n",
    "\n",
    "# Display the head of the final combined dataset\n",
    "merged_data.head()\n"
   ]
  },
  {
   "cell_type": "code",
   "execution_count": null,
   "metadata": {},
   "outputs": [],
   "source": [
    "# Check the shape of the merged dataset\n",
    "merged_data.shape\n"
   ]
  },
  {
   "cell_type": "markdown",
   "metadata": {},
   "source": [
    "### 2.5.2 Checking Missing Values in the Merged Dataset\n"
   ]
  },
  {
   "cell_type": "code",
   "execution_count": null,
   "metadata": {},
   "outputs": [],
   "source": [
    "# Check for missing values in the merged dataset\n",
    "merged_data.isnull().sum()\n"
   ]
  },
  {
   "cell_type": "markdown",
   "metadata": {},
   "source": [
    "## 2.6 Handling Missing Values\n"
   ]
  },
  {
   "cell_type": "code",
   "execution_count": null,
   "metadata": {},
   "outputs": [],
   "source": [
    "# Handle missing values in the merged dataset\n",
    "cleaned_data = preprocessor.handle_missing_values()\n",
    "\n",
    "# Verify if there are still missing values\n",
    "print(cleaned_data.isnull().sum())\n"
   ]
  },
  {
   "cell_type": "markdown",
   "metadata": {},
   "source": [
    "## 2.7 Feature Engineering\n",
    "\n",
    "\n"
   ]
  },
  {
   "cell_type": "code",
   "execution_count": null,
   "metadata": {},
   "outputs": [],
   "source": [
    "# Perform feature engineering on the dataset\n",
    "X, y = preprocessor.feature_engineering()\n",
    "\n",
    "# Display the head of the engineered dataset\n",
    "X.head()\n"
   ]
  },
  {
   "cell_type": "code",
   "execution_count": null,
   "metadata": {},
   "outputs": [],
   "source": [
    "# The feature engineering step already includes extracting date-based features\n",
    "# This step is handled within the Preprocessor class\n",
    "\n",
    "# Perform feature engineering on the dataset (already includes extracting date-based features)\n",
    "X, y = preprocessor.feature_engineering()\n",
    "\n",
    "# Display the head of the engineered dataset\n",
    "X.head()\n"
   ]
  },
  {
   "cell_type": "code",
   "execution_count": null,
   "metadata": {},
   "outputs": [],
   "source": [
    "# The feature engineering step already includes handling missing values and label encoding\n",
    "# Additional holiday features can be implemented if a holiday dataset is available\n",
    "\n",
    "# Perform feature engineering on the dataset (already includes label encoding and handling missing values)\n",
    "X, y = preprocessor.feature_engineering()\n",
    "\n",
    "# Display the head of the engineered dataset\n",
    "X.head()\n"
   ]
  },
  {
   "cell_type": "code",
   "execution_count": null,
   "metadata": {},
   "outputs": [],
   "source": [
    "# The feature engineering step already includes scaling the data\n",
    "# This step is handled within the Preprocessor class\n",
    "\n",
    "# Perform feature engineering on the dataset (already includes scaling the data)\n",
    "X, y = preprocessor.feature_engineering()\n",
    "\n",
    "# Display the head of the scaled dataset\n",
    "X.head()\n"
   ]
  },
  {
   "cell_type": "code",
   "execution_count": null,
   "metadata": {},
   "outputs": [],
   "source": [
    "# Define the target (sales) and features using the Preprocessor class\n",
    "X, y = preprocessor.feature_engineering()\n",
    "\n",
    "# Display the head of the features and target\n",
    "X.head(), y.head()\n"
   ]
  },
  {
   "cell_type": "code",
   "execution_count": null,
   "metadata": {},
   "outputs": [],
   "source": [
    "# Check for non-numeric columns in the feature set\n",
    "non_numeric_columns = X.select_dtypes(include=['object']).columns\n",
    "print(f\"Non-numeric columns: {non_numeric_columns}\")\n",
    "\n",
    "# Apply One-Hot Encoding to categorical columns (if any)\n",
    "X_encoded = pd.get_dummies(X, columns=non_numeric_columns)\n",
    "\n",
    "# Split data into train and test sets using train_test_split\n",
    "X_train, X_test, y_train, y_test = train_test_split(X_encoded, y, test_size=0.2, random_state=42)\n"
   ]
  },
  {
   "cell_type": "markdown",
   "metadata": {},
   "source": [
    "## 2.10 Training the XGBoost Model\n"
   ]
  },
  {
   "cell_type": "code",
   "execution_count": null,
   "metadata": {},
   "outputs": [],
   "source": [
    "# Initialize the ModelTrainer class with features and target\n",
    "model_trainer = ModelTrainer(X_train, y_train)\n",
    "\n",
    "# Train the XGBoost model within a pipeline\n",
    "xgb_pipeline = model_trainer.train_xgboost()\n",
    "\n",
    "# Predict and evaluate on training data\n",
    "y_pred_train_xgb = xgb_pipeline.predict(X_train)\n",
    "\n",
    "# Predict and evaluate on testing data\n",
    "y_pred_test_xgb = xgb_pipeline.predict(X_test)\n"
   ]
  },
  {
   "cell_type": "markdown",
   "metadata": {},
   "source": [
    "## 2.11 Model Evaluation\n"
   ]
  },
  {
   "cell_type": "code",
   "execution_count": null,
   "metadata": {},
   "outputs": [],
   "source": [
    "# Define the evaluation function\n",
    "def evaluate_model(y_true, y_pred):\n",
    "    mse = mean_squared_error(y_true, y_pred)\n",
    "    mae = mean_absolute_error(y_true, y_pred)\n",
    "    r2 = r2_score(y_true, y_pred)\n",
    "    return mse, mae, r2\n",
    "\n",
    "# Evaluate the model on training data\n",
    "train_mse, train_mae, train_r2 = evaluate_model(y_train, y_pred_train_xgb)\n",
    "print(f\"Training Data - MSE: {train_mse}, MAE: {train_mae}, R2: {train_r2}\")\n",
    "\n",
    "# Evaluate the model on testing data\n",
    "test_mse, test_mae, test_r2 = evaluate_model(y_test, y_pred_test_xgb)\n",
    "print(f\"Testing Data - MSE: {test_mse}, MAE: {test_mae}, R2: {test_r2}\")\n"
   ]
  },
  {
   "cell_type": "code",
   "execution_count": null,
   "metadata": {},
   "outputs": [],
   "source": [
    "# Evaluate the XGBoost model on the training set\n",
    "mse_train_xgb, mae_train_xgb, r2_train_xgb = evaluate_model(y_train, y_pred_train_xgb)\n",
    "print(f\"XGBoost Training Set - MSE: {mse_train_xgb}, MAE: {mae_train_xgb}, R2: {r2_train_xgb}\")\n",
    "\n",
    "# Evaluate the XGBoost model on the test set\n",
    "mse_test_xgb, mae_test_xgb, r2_test_xgb = evaluate_model(y_test, y_pred_test_xgb)\n",
    "print(f\"XGBoost Test Set - MSE: {mse_test_xgb}, MAE: {mae_test_xgb}, R2: {r2_test_xgb}\")\n"
   ]
  },
  {
   "cell_type": "markdown",
   "metadata": {},
   "source": [
    "## 2.13 Training the Random Forest Model\n"
   ]
  },
  {
   "cell_type": "code",
   "execution_count": null,
   "metadata": {},
   "outputs": [],
   "source": [
    "# Initialize the ModelTrainer class with features and target\n",
    "model_trainer = ModelTrainer(X_train, y_train)\n",
    "\n",
    "# Train the Random Forest model within a pipeline\n",
    "rf_pipeline = model_trainer.train_random_forest()\n",
    "\n",
    "# Predict and evaluate on training data\n",
    "y_pred_train_rf = rf_pipeline.predict(X_train)\n",
    "\n",
    "# Predict and evaluate on testing data\n",
    "y_pred_test_rf = rf_pipeline.predict(X_test)\n"
   ]
  }
 ],
 "metadata": {
  "kernelspec": {
   "display_name": "week-4",
   "language": "python",
   "name": "python3"
  },
  "language_info": {
   "name": "python",
   "version": "3.12.5"
  }
 },
 "nbformat": 4,
 "nbformat_minor": 2
}
